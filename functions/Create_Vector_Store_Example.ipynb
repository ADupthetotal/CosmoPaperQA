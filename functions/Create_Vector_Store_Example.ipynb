{
 "cells": [
  {
   "cell_type": "code",
   "execution_count": null,
   "id": "b841900d-791d-4018-b23e-aa0de1f0cbe9",
   "metadata": {},
   "outputs": [],
   "source": [
    "import os\n",
    "from openai import OpenAI\n",
    "\n",
    "client = OpenAI(api_key = os.environ[\"OPENAI_API_KEY\"])\n",
    "\n",
    "#Replace this directory path with the path to the directory of the RAG papers\n",
    "assistant_data = \"/home/adrian/Documents/University Work/Part III Project/cmbagent_dataset/Source_Papers\"\n",
    "\n",
    "chunking_strategy =  {\n",
    "        \"type\": \"static\",\n",
    "        \"static\": {\n",
    "            \"max_chunk_size_tokens\": 4000, # reduce size to ensure better context integrity\n",
    "            \"chunk_overlap_tokens\": 100 # increase overlap to maintain context across chunks\n",
    "        }}\n",
    "    \n",
    "vector_store = client.vector_stores.create(name=\"rag_eval_test\", chunking_strategy=chunking_strategy)\n",
    "file_paths = []\n",
    "for root, dirs, files in os.walk(assistant_data):\n",
    "    # Filter out unwanted directories like .ipynb_checkpoints\n",
    "    dirs[:] = [d for d in dirs if not d.startswith('.')]\n",
    "    for file in files:\n",
    "        if file.startswith('.') or file.endswith('.ipynb')  or file.endswith('.yaml') or file.endswith('.txt') or (not '.' in file):\n",
    "            continue\n",
    "        file_paths.append(os.path.join(root, file))\n",
    "    \n",
    "file_streams = [open(path, \"rb\") for path in file_paths]\n",
    "    \n",
    "file_batch = client.vector_stores.file_batches.upload_and_poll(\n",
    "        vector_store_id=vector_store.id,\n",
    "        files=file_streams\n",
    "        )\n",
    "\n",
    "#print vector_store.id to use in OpenAI RAG code\n",
    "print(vector_store.id)"
   ]
  }
 ],
 "metadata": {
  "kernelspec": {
   "display_name": "cmbagent_env",
   "language": "python",
   "name": "cmbagent_env"
  },
  "language_info": {
   "codemirror_mode": {
    "name": "ipython",
    "version": 3
   },
   "file_extension": ".py",
   "mimetype": "text/x-python",
   "name": "python",
   "nbconvert_exporter": "python",
   "pygments_lexer": "ipython3",
   "version": "3.12.7"
  }
 },
 "nbformat": 4,
 "nbformat_minor": 5
}
