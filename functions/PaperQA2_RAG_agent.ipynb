{
 "cells": [
  {
   "cell_type": "code",
   "execution_count": null,
   "id": "b169e73d-8d69-4e77-a437-165a77fe40a6",
   "metadata": {},
   "outputs": [],
   "source": [
    "import os\n",
    "from paperqa import Settings, Docs\n",
    "\n",
    "async def rag_agent(question, vector_store, rag_model) -> str:\n",
    "    \"\"\"\n",
    "    Runs the PaperQA2 RAG, returning the answer to the inputted question, given the vector_store object.\n",
    "    \n",
    "    Args:\n",
    "        question: Question to be answered\n",
    "        vector_store: Documents to be searched for answers (object class is part of PaperQA2 library)\n",
    "        rag_model: LLM that can be used to power PaperQA2 RAG\n",
    "    Returns:\n",
    "        Answer to the inputted question\n",
    "    \"\"\"\n",
    "    settings.temperature=0.0\n",
    "    settings.llm = rag_model\n",
    "\n",
    "    answer_response = await vector_store.aquery(\n",
    "        query=question,\n",
    "        settings=settings   \n",
    "    )\n",
    "    response = answer_response.model_dump()\n",
    "    return response[\"answer\"]\n",
    "\n",
    "#\"directory\" is directory in which papers used in RAG can be found\n",
    "directory = \"/home/adrian/Documents/University Work/Part III Project/cmbagent_dataset/Source_Papers\"\n",
    "\n",
    "settings = Settings(\n",
    "    parsing={\n",
    "        \"use_doc_details\": False,  # Disable metadata extraction\n",
    "        \"disable_doc_valid_check\": True  # Skip document validation\n",
    "    },\n",
    "    #agent={\n",
    "        #\"return_paper_metadata\": False,  # Don't include metadata in results\n",
    "        #\"agent_config\": {  # Must initialize as dict\n",
    "        #    \"metadata_client\": None  # Explicitly disable client\n",
    "        #}\n",
    "    #}\n",
    ")\n",
    "\n",
    "vector_store = Docs()\n",
    "# valid extensions include .pdf, .txt, .md, and .html\n",
    "full_paths = [os.path.abspath(os.path.join(directory, f)) for f in os.listdir(directory)]\n",
    "\n",
    "for doc in (full_paths):\n",
    "    vector_store.add(doc, settings=settings)"
   ]
  }
 ],
 "metadata": {
  "kernelspec": {
   "display_name": "cmbagent_env",
   "language": "python",
   "name": "cmbagent_env"
  },
  "language_info": {
   "codemirror_mode": {
    "name": "ipython",
    "version": 3
   },
   "file_extension": ".py",
   "mimetype": "text/x-python",
   "name": "python",
   "nbconvert_exporter": "python",
   "pygments_lexer": "ipython3",
   "version": "3.12.7"
  }
 },
 "nbformat": 4,
 "nbformat_minor": 5
}
