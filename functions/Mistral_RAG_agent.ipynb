{
 "cells": [
  {
   "cell_type": "code",
   "execution_count": null,
   "id": "fdc8fe62-feb4-4fd8-a14b-62cc5a19a905",
   "metadata": {},
   "outputs": [],
   "source": [
    "def rag_agent(question, index, rag_model) -> str:\n",
    "    question_embeddings = np.array([get_text_embedding(question)])\n",
    "    D, I = index.search(question_embeddings, k=2) # distance, index\n",
    "    retrieved_chunk = [chunks[i] for i in I.tolist()[0]]\n",
    "    rag_message=f\"\"\"\n",
    "    Context information is below.\n",
    "    ---------------------\n",
    "    {retrieved_chunk}\n",
    "    ---------------------\n",
    "    Given the context information and not prior knowledge, answer the query.\n",
    "    Query: {question}\n",
    "    Answer:\n",
    "    \"\"\"\n",
    "    messages = [\n",
    "        {\n",
    "            \"role\": \"user\", \"content\": rag_message\n",
    "        }\n",
    "    ]\n",
    "    chat_response = mistral_client.chat.complete(\n",
    "        model=rag_model,\n",
    "        messages=messages\n",
    "    )\n",
    "    return (chat_response.choices[0].message.content)\n",
    "\n",
    "#code to recover saved vector store from either CosmoPaperQA or LitQA2\n",
    "text_embeddings = np.load('text_embeddings_LitQA2.npy')\n",
    "\n",
    "with open(\"chunks_LitQA2.txt\", 'r', encoding='utf-8') as f:\n",
    "    content = f.read()\n",
    "# Split by '---\\n' to recover original chunks\n",
    "chunks = content.split('---\\n')\n",
    "# Remove any empty strings or whitespace\n",
    "chunks = [chunk.strip() for chunk in chunks if chunk.strip()]\n",
    "\n",
    "d = text_embeddings.shape[1]\n",
    "index = faiss.IndexFlatL2(d)\n",
    "index.add(text_embeddings)"
   ]
  }
 ],
 "metadata": {
  "kernelspec": {
   "display_name": "cmbagent_env",
   "language": "python",
   "name": "cmbagent_env"
  },
  "language_info": {
   "codemirror_mode": {
    "name": "ipython",
    "version": 3
   },
   "file_extension": ".py",
   "mimetype": "text/x-python",
   "name": "python",
   "nbconvert_exporter": "python",
   "pygments_lexer": "ipython3",
   "version": "3.12.7"
  }
 },
 "nbformat": 4,
 "nbformat_minor": 5
}
